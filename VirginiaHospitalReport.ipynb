{
 "cells": [
  {
   "cell_type": "markdown",
   "metadata": {},
   "source": [
    "# DATA 201: Week 7 Pandas Exercise\n",
    "For this exercise we will look at Hospital Data: https://www.ahd.com/states/hospital_VA.html\n",
    "\n",
    "Note: This website is an example of nicely formatted html table that can be read using pandas. It is not necessarily thorougly vetted information. There will be a backup CSV file in the data folder.\n",
    "\n",
    "**Read in the data from the website into a Pandas Dataframe**:\n",
    "1. Bar chart of the top ten largest hospitals in Virginia in order\n",
    "2. Create a column in your dataframe \"RevenuePerBed\" based on the revenue and staffed beds\n",
    "    - Note: Delete the Total row\n",
    "3. Create a scatter plot of the revenue per bed vs the number of beds\n",
    "5. Rename Gross PatientRevenue (\\$000) to Revenue\n",
    "4. Other plots will be specified during class\n",
    "    -Top 10 hospitals by stay duration (numberofdays/totaldischarges) (Bar Chart)\n",
    "    -Plotly map hospitals - colorbar indicates number of beds\n",
    "5. Your plots must be properly labeled with units!\n",
    "6. Top ten hospitals by state duration (numberofdays/totaldischarge) (bar chart)\n",
    "7. Plotly map hospitals- colorbar indicates number of beds\n",
    "**Questions**\n",
    "1. What is the average and median number of beds per hospital (excluding missing data)\n",
    "2. Which hospitals have the largest and smallest number of beds (excluding missing data)\n",
    "3. Which hospital is the most profitable per bed?\n",
    "4. Which city has the most number of hospital beds?"
   ]
  },
  {
   "cell_type": "markdown",
   "metadata": {},
   "source": [
    "### Import pandas and matplot library"
   ]
  },
  {
   "cell_type": "code",
   "execution_count": 1,
   "metadata": {},
   "outputs": [],
   "source": [
    "import pandas as pd\n",
    "import matplotlib.pyplot as plt"
   ]
  },
  {
   "cell_type": "markdown",
   "metadata": {},
   "source": [
    "### Read in data from web page"
   ]
  },
  {
   "cell_type": "code",
   "execution_count": 2,
   "metadata": {},
   "outputs": [],
   "source": [
    "# df = pd.read_html(\"https://www.ahd.com/states/hospital_VA.html\")"
   ]
  },
  {
   "cell_type": "code",
   "execution_count": 3,
   "metadata": {},
   "outputs": [],
   "source": [
    "df1 = pd.read_pickle(\"../data/backup.pkl\")"
   ]
  },
  {
   "cell_type": "code",
   "execution_count": 4,
   "metadata": {},
   "outputs": [
    {
     "data": {
      "text/html": [
       "<div>\n",
       "<style scoped>\n",
       "    .dataframe tbody tr th:only-of-type {\n",
       "        vertical-align: middle;\n",
       "    }\n",
       "\n",
       "    .dataframe tbody tr th {\n",
       "        vertical-align: top;\n",
       "    }\n",
       "\n",
       "    .dataframe thead th {\n",
       "        text-align: right;\n",
       "    }\n",
       "</style>\n",
       "<table border=\"1\" class=\"dataframe\">\n",
       "  <thead>\n",
       "    <tr style=\"text-align: right;\">\n",
       "      <th></th>\n",
       "      <th>Hospital Name</th>\n",
       "      <th>City</th>\n",
       "      <th>StaffedBeds</th>\n",
       "      <th>TotalDischarges</th>\n",
       "      <th>PatientDays</th>\n",
       "      <th>Gross PatientRevenue ($000)</th>\n",
       "    </tr>\n",
       "  </thead>\n",
       "  <tbody>\n",
       "    <tr>\n",
       "      <th>0</th>\n",
       "      <td>VCU Community Memorial Hospital</td>\n",
       "      <td>South Hill</td>\n",
       "      <td>206</td>\n",
       "      <td>3033</td>\n",
       "      <td>14414</td>\n",
       "      <td>$362,683</td>\n",
       "    </tr>\n",
       "    <tr>\n",
       "      <th>1</th>\n",
       "      <td>633d Medical Group -Langley Air Force Base</td>\n",
       "      <td>Hampton</td>\n",
       "      <td>0</td>\n",
       "      <td>0</td>\n",
       "      <td>0</td>\n",
       "      <td>$0</td>\n",
       "    </tr>\n",
       "    <tr>\n",
       "      <th>2</th>\n",
       "      <td>Augusta Health</td>\n",
       "      <td>Fishersville</td>\n",
       "      <td>242</td>\n",
       "      <td>10802</td>\n",
       "      <td>39515</td>\n",
       "      <td>$1,095,583</td>\n",
       "    </tr>\n",
       "    <tr>\n",
       "      <th>3</th>\n",
       "      <td>Bon Secours - Southampton Memorial Center</td>\n",
       "      <td>Franklin</td>\n",
       "      <td>204</td>\n",
       "      <td>1663</td>\n",
       "      <td>5728</td>\n",
       "      <td>$247,313</td>\n",
       "    </tr>\n",
       "    <tr>\n",
       "      <th>4</th>\n",
       "      <td>Bon Secours - Southern Virginia Medical Center</td>\n",
       "      <td>Emporia</td>\n",
       "      <td>80</td>\n",
       "      <td>981</td>\n",
       "      <td>3237</td>\n",
       "      <td>$223,271</td>\n",
       "    </tr>\n",
       "    <tr>\n",
       "      <th>...</th>\n",
       "      <td>...</td>\n",
       "      <td>...</td>\n",
       "      <td>...</td>\n",
       "      <td>...</td>\n",
       "      <td>...</td>\n",
       "      <td>...</td>\n",
       "    </tr>\n",
       "    <tr>\n",
       "      <th>86</th>\n",
       "      <td>Virginia Hospital Center</td>\n",
       "      <td>Arlington</td>\n",
       "      <td>365</td>\n",
       "      <td>23374</td>\n",
       "      <td>96351</td>\n",
       "      <td>$1,477,088</td>\n",
       "    </tr>\n",
       "    <tr>\n",
       "      <th>87</th>\n",
       "      <td>Warren Memorial Hospital</td>\n",
       "      <td>Front Royal</td>\n",
       "      <td>166</td>\n",
       "      <td>1561</td>\n",
       "      <td>4711</td>\n",
       "      <td>$170,668</td>\n",
       "    </tr>\n",
       "    <tr>\n",
       "      <th>88</th>\n",
       "      <td>Winchester Medical Center</td>\n",
       "      <td>Winchester</td>\n",
       "      <td>495</td>\n",
       "      <td>20184</td>\n",
       "      <td>108640</td>\n",
       "      <td>$1,436,802</td>\n",
       "    </tr>\n",
       "    <tr>\n",
       "      <th>89</th>\n",
       "      <td>Wythe County Community Hospital</td>\n",
       "      <td>Wytheville</td>\n",
       "      <td>100</td>\n",
       "      <td>1809</td>\n",
       "      <td>6181</td>\n",
       "      <td>$251,111</td>\n",
       "    </tr>\n",
       "    <tr>\n",
       "      <th>90</th>\n",
       "      <td>T O T A L</td>\n",
       "      <td>NaN</td>\n",
       "      <td>17768</td>\n",
       "      <td>711729</td>\n",
       "      <td>3466160</td>\n",
       "      <td>$87,247,861</td>\n",
       "    </tr>\n",
       "  </tbody>\n",
       "</table>\n",
       "<p>91 rows × 6 columns</p>\n",
       "</div>"
      ],
      "text/plain": [
       "                                     Hospital Name          City  StaffedBeds  \\\n",
       "0                  VCU Community Memorial Hospital    South Hill          206   \n",
       "1       633d Medical Group -Langley Air Force Base       Hampton            0   \n",
       "2                                   Augusta Health  Fishersville          242   \n",
       "3        Bon Secours - Southampton Memorial Center      Franklin          204   \n",
       "4   Bon Secours - Southern Virginia Medical Center       Emporia           80   \n",
       "..                                             ...           ...          ...   \n",
       "86                        Virginia Hospital Center     Arlington          365   \n",
       "87                        Warren Memorial Hospital   Front Royal          166   \n",
       "88                       Winchester Medical Center    Winchester          495   \n",
       "89                 Wythe County Community Hospital    Wytheville          100   \n",
       "90                                       T O T A L           NaN        17768   \n",
       "\n",
       "    TotalDischarges  PatientDays Gross PatientRevenue ($000)  \n",
       "0              3033        14414                    $362,683  \n",
       "1                 0            0                          $0  \n",
       "2             10802        39515                  $1,095,583  \n",
       "3              1663         5728                    $247,313  \n",
       "4               981         3237                    $223,271  \n",
       "..              ...          ...                         ...  \n",
       "86            23374        96351                  $1,477,088  \n",
       "87             1561         4711                    $170,668  \n",
       "88            20184       108640                  $1,436,802  \n",
       "89             1809         6181                    $251,111  \n",
       "90           711729      3466160                 $87,247,861  \n",
       "\n",
       "[91 rows x 6 columns]"
      ]
     },
     "execution_count": 4,
     "metadata": {},
     "output_type": "execute_result"
    }
   ],
   "source": [
    "df1"
   ]
  },
  {
   "cell_type": "code",
   "execution_count": null,
   "metadata": {},
   "outputs": [],
   "source": []
  },
  {
   "cell_type": "code",
   "execution_count": 5,
   "metadata": {},
   "outputs": [
    {
     "data": {
      "text/html": [
       "<div>\n",
       "<style scoped>\n",
       "    .dataframe tbody tr th:only-of-type {\n",
       "        vertical-align: middle;\n",
       "    }\n",
       "\n",
       "    .dataframe tbody tr th {\n",
       "        vertical-align: top;\n",
       "    }\n",
       "\n",
       "    .dataframe thead th {\n",
       "        text-align: right;\n",
       "    }\n",
       "</style>\n",
       "<table border=\"1\" class=\"dataframe\">\n",
       "  <thead>\n",
       "    <tr style=\"text-align: right;\">\n",
       "      <th></th>\n",
       "      <th>Hospital Name</th>\n",
       "      <th>City</th>\n",
       "      <th>StaffedBeds</th>\n",
       "      <th>TotalDischarges</th>\n",
       "      <th>PatientDays</th>\n",
       "      <th>Gross PatientRevenue ($000)</th>\n",
       "    </tr>\n",
       "  </thead>\n",
       "  <tbody>\n",
       "    <tr>\n",
       "      <th>0</th>\n",
       "      <td>VCU Community Memorial Hospital</td>\n",
       "      <td>South Hill</td>\n",
       "      <td>206</td>\n",
       "      <td>3033</td>\n",
       "      <td>14414</td>\n",
       "      <td>$362,683</td>\n",
       "    </tr>\n",
       "    <tr>\n",
       "      <th>1</th>\n",
       "      <td>633d Medical Group -Langley Air Force Base</td>\n",
       "      <td>Hampton</td>\n",
       "      <td>0</td>\n",
       "      <td>0</td>\n",
       "      <td>0</td>\n",
       "      <td>$0</td>\n",
       "    </tr>\n",
       "    <tr>\n",
       "      <th>2</th>\n",
       "      <td>Augusta Health</td>\n",
       "      <td>Fishersville</td>\n",
       "      <td>242</td>\n",
       "      <td>10802</td>\n",
       "      <td>39515</td>\n",
       "      <td>$1,095,583</td>\n",
       "    </tr>\n",
       "    <tr>\n",
       "      <th>3</th>\n",
       "      <td>Bon Secours - Southampton Memorial Center</td>\n",
       "      <td>Franklin</td>\n",
       "      <td>204</td>\n",
       "      <td>1663</td>\n",
       "      <td>5728</td>\n",
       "      <td>$247,313</td>\n",
       "    </tr>\n",
       "    <tr>\n",
       "      <th>4</th>\n",
       "      <td>Bon Secours - Southern Virginia Medical Center</td>\n",
       "      <td>Emporia</td>\n",
       "      <td>80</td>\n",
       "      <td>981</td>\n",
       "      <td>3237</td>\n",
       "      <td>$223,271</td>\n",
       "    </tr>\n",
       "  </tbody>\n",
       "</table>\n",
       "</div>"
      ],
      "text/plain": [
       "                                    Hospital Name          City  StaffedBeds  \\\n",
       "0                 VCU Community Memorial Hospital    South Hill          206   \n",
       "1      633d Medical Group -Langley Air Force Base       Hampton            0   \n",
       "2                                  Augusta Health  Fishersville          242   \n",
       "3       Bon Secours - Southampton Memorial Center      Franklin          204   \n",
       "4  Bon Secours - Southern Virginia Medical Center       Emporia           80   \n",
       "\n",
       "   TotalDischarges  PatientDays Gross PatientRevenue ($000)  \n",
       "0             3033        14414                    $362,683  \n",
       "1                0            0                          $0  \n",
       "2            10802        39515                  $1,095,583  \n",
       "3             1663         5728                    $247,313  \n",
       "4              981         3237                    $223,271  "
      ]
     },
     "execution_count": 5,
     "metadata": {},
     "output_type": "execute_result"
    }
   ],
   "source": [
    "df1.head()"
   ]
  },
  {
   "cell_type": "code",
   "execution_count": 6,
   "metadata": {},
   "outputs": [],
   "source": [
    "# df = pd.read_csv(\"../data/backup.pkl\")"
   ]
  },
  {
   "cell_type": "code",
   "execution_count": 7,
   "metadata": {},
   "outputs": [],
   "source": [
    "# df1.to_pickle(\"../data/backup.pkl\")"
   ]
  },
  {
   "cell_type": "code",
   "execution_count": 8,
   "metadata": {},
   "outputs": [],
   "source": [
    "# df = pd.read_pickle(\"../data/backup.pkl\")"
   ]
  },
  {
   "cell_type": "code",
   "execution_count": 9,
   "metadata": {},
   "outputs": [
    {
     "data": {
      "text/html": [
       "<div>\n",
       "<style scoped>\n",
       "    .dataframe tbody tr th:only-of-type {\n",
       "        vertical-align: middle;\n",
       "    }\n",
       "\n",
       "    .dataframe tbody tr th {\n",
       "        vertical-align: top;\n",
       "    }\n",
       "\n",
       "    .dataframe thead th {\n",
       "        text-align: right;\n",
       "    }\n",
       "</style>\n",
       "<table border=\"1\" class=\"dataframe\">\n",
       "  <thead>\n",
       "    <tr style=\"text-align: right;\">\n",
       "      <th></th>\n",
       "      <th>Hospital Name</th>\n",
       "      <th>City</th>\n",
       "      <th>StaffedBeds</th>\n",
       "      <th>TotalDischarges</th>\n",
       "      <th>PatientDays</th>\n",
       "      <th>Gross PatientRevenue ($000)</th>\n",
       "    </tr>\n",
       "  </thead>\n",
       "  <tbody>\n",
       "    <tr>\n",
       "      <th>0</th>\n",
       "      <td>VCU Community Memorial Hospital</td>\n",
       "      <td>South Hill</td>\n",
       "      <td>206</td>\n",
       "      <td>3033</td>\n",
       "      <td>14414</td>\n",
       "      <td>$362,683</td>\n",
       "    </tr>\n",
       "    <tr>\n",
       "      <th>1</th>\n",
       "      <td>633d Medical Group -Langley Air Force Base</td>\n",
       "      <td>Hampton</td>\n",
       "      <td>0</td>\n",
       "      <td>0</td>\n",
       "      <td>0</td>\n",
       "      <td>$0</td>\n",
       "    </tr>\n",
       "    <tr>\n",
       "      <th>2</th>\n",
       "      <td>Augusta Health</td>\n",
       "      <td>Fishersville</td>\n",
       "      <td>242</td>\n",
       "      <td>10802</td>\n",
       "      <td>39515</td>\n",
       "      <td>$1,095,583</td>\n",
       "    </tr>\n",
       "    <tr>\n",
       "      <th>3</th>\n",
       "      <td>Bon Secours - Southampton Memorial Center</td>\n",
       "      <td>Franklin</td>\n",
       "      <td>204</td>\n",
       "      <td>1663</td>\n",
       "      <td>5728</td>\n",
       "      <td>$247,313</td>\n",
       "    </tr>\n",
       "    <tr>\n",
       "      <th>4</th>\n",
       "      <td>Bon Secours - Southern Virginia Medical Center</td>\n",
       "      <td>Emporia</td>\n",
       "      <td>80</td>\n",
       "      <td>981</td>\n",
       "      <td>3237</td>\n",
       "      <td>$223,271</td>\n",
       "    </tr>\n",
       "    <tr>\n",
       "      <th>...</th>\n",
       "      <td>...</td>\n",
       "      <td>...</td>\n",
       "      <td>...</td>\n",
       "      <td>...</td>\n",
       "      <td>...</td>\n",
       "      <td>...</td>\n",
       "    </tr>\n",
       "    <tr>\n",
       "      <th>86</th>\n",
       "      <td>Virginia Hospital Center</td>\n",
       "      <td>Arlington</td>\n",
       "      <td>365</td>\n",
       "      <td>23374</td>\n",
       "      <td>96351</td>\n",
       "      <td>$1,477,088</td>\n",
       "    </tr>\n",
       "    <tr>\n",
       "      <th>87</th>\n",
       "      <td>Warren Memorial Hospital</td>\n",
       "      <td>Front Royal</td>\n",
       "      <td>166</td>\n",
       "      <td>1561</td>\n",
       "      <td>4711</td>\n",
       "      <td>$170,668</td>\n",
       "    </tr>\n",
       "    <tr>\n",
       "      <th>88</th>\n",
       "      <td>Winchester Medical Center</td>\n",
       "      <td>Winchester</td>\n",
       "      <td>495</td>\n",
       "      <td>20184</td>\n",
       "      <td>108640</td>\n",
       "      <td>$1,436,802</td>\n",
       "    </tr>\n",
       "    <tr>\n",
       "      <th>89</th>\n",
       "      <td>Wythe County Community Hospital</td>\n",
       "      <td>Wytheville</td>\n",
       "      <td>100</td>\n",
       "      <td>1809</td>\n",
       "      <td>6181</td>\n",
       "      <td>$251,111</td>\n",
       "    </tr>\n",
       "    <tr>\n",
       "      <th>90</th>\n",
       "      <td>T O T A L</td>\n",
       "      <td>NaN</td>\n",
       "      <td>17768</td>\n",
       "      <td>711729</td>\n",
       "      <td>3466160</td>\n",
       "      <td>$87,247,861</td>\n",
       "    </tr>\n",
       "  </tbody>\n",
       "</table>\n",
       "<p>91 rows × 6 columns</p>\n",
       "</div>"
      ],
      "text/plain": [
       "                                     Hospital Name          City  StaffedBeds  \\\n",
       "0                  VCU Community Memorial Hospital    South Hill          206   \n",
       "1       633d Medical Group -Langley Air Force Base       Hampton            0   \n",
       "2                                   Augusta Health  Fishersville          242   \n",
       "3        Bon Secours - Southampton Memorial Center      Franklin          204   \n",
       "4   Bon Secours - Southern Virginia Medical Center       Emporia           80   \n",
       "..                                             ...           ...          ...   \n",
       "86                        Virginia Hospital Center     Arlington          365   \n",
       "87                        Warren Memorial Hospital   Front Royal          166   \n",
       "88                       Winchester Medical Center    Winchester          495   \n",
       "89                 Wythe County Community Hospital    Wytheville          100   \n",
       "90                                       T O T A L           NaN        17768   \n",
       "\n",
       "    TotalDischarges  PatientDays Gross PatientRevenue ($000)  \n",
       "0              3033        14414                    $362,683  \n",
       "1                 0            0                          $0  \n",
       "2             10802        39515                  $1,095,583  \n",
       "3              1663         5728                    $247,313  \n",
       "4               981         3237                    $223,271  \n",
       "..              ...          ...                         ...  \n",
       "86            23374        96351                  $1,477,088  \n",
       "87             1561         4711                    $170,668  \n",
       "88            20184       108640                  $1,436,802  \n",
       "89             1809         6181                    $251,111  \n",
       "90           711729      3466160                 $87,247,861  \n",
       "\n",
       "[91 rows x 6 columns]"
      ]
     },
     "execution_count": 9,
     "metadata": {},
     "output_type": "execute_result"
    }
   ],
   "source": [
    "df1"
   ]
  },
  {
   "cell_type": "code",
   "execution_count": 10,
   "metadata": {},
   "outputs": [],
   "source": [
    "# drop the last row (total row)\n",
    "df1 = df1.drop(90)"
   ]
  },
  {
   "cell_type": "code",
   "execution_count": 11,
   "metadata": {},
   "outputs": [
    {
     "data": {
      "text/html": [
       "<div>\n",
       "<style scoped>\n",
       "    .dataframe tbody tr th:only-of-type {\n",
       "        vertical-align: middle;\n",
       "    }\n",
       "\n",
       "    .dataframe tbody tr th {\n",
       "        vertical-align: top;\n",
       "    }\n",
       "\n",
       "    .dataframe thead th {\n",
       "        text-align: right;\n",
       "    }\n",
       "</style>\n",
       "<table border=\"1\" class=\"dataframe\">\n",
       "  <thead>\n",
       "    <tr style=\"text-align: right;\">\n",
       "      <th></th>\n",
       "      <th>Hospital Name</th>\n",
       "      <th>City</th>\n",
       "      <th>StaffedBeds</th>\n",
       "      <th>TotalDischarges</th>\n",
       "      <th>PatientDays</th>\n",
       "      <th>Gross PatientRevenue ($000)</th>\n",
       "    </tr>\n",
       "  </thead>\n",
       "  <tbody>\n",
       "    <tr>\n",
       "      <th>0</th>\n",
       "      <td>VCU Community Memorial Hospital</td>\n",
       "      <td>South Hill</td>\n",
       "      <td>206</td>\n",
       "      <td>3033</td>\n",
       "      <td>14414</td>\n",
       "      <td>$362,683</td>\n",
       "    </tr>\n",
       "    <tr>\n",
       "      <th>1</th>\n",
       "      <td>633d Medical Group -Langley Air Force Base</td>\n",
       "      <td>Hampton</td>\n",
       "      <td>0</td>\n",
       "      <td>0</td>\n",
       "      <td>0</td>\n",
       "      <td>$0</td>\n",
       "    </tr>\n",
       "    <tr>\n",
       "      <th>2</th>\n",
       "      <td>Augusta Health</td>\n",
       "      <td>Fishersville</td>\n",
       "      <td>242</td>\n",
       "      <td>10802</td>\n",
       "      <td>39515</td>\n",
       "      <td>$1,095,583</td>\n",
       "    </tr>\n",
       "    <tr>\n",
       "      <th>3</th>\n",
       "      <td>Bon Secours - Southampton Memorial Center</td>\n",
       "      <td>Franklin</td>\n",
       "      <td>204</td>\n",
       "      <td>1663</td>\n",
       "      <td>5728</td>\n",
       "      <td>$247,313</td>\n",
       "    </tr>\n",
       "    <tr>\n",
       "      <th>4</th>\n",
       "      <td>Bon Secours - Southern Virginia Medical Center</td>\n",
       "      <td>Emporia</td>\n",
       "      <td>80</td>\n",
       "      <td>981</td>\n",
       "      <td>3237</td>\n",
       "      <td>$223,271</td>\n",
       "    </tr>\n",
       "  </tbody>\n",
       "</table>\n",
       "</div>"
      ],
      "text/plain": [
       "                                    Hospital Name          City  StaffedBeds  \\\n",
       "0                 VCU Community Memorial Hospital    South Hill          206   \n",
       "1      633d Medical Group -Langley Air Force Base       Hampton            0   \n",
       "2                                  Augusta Health  Fishersville          242   \n",
       "3       Bon Secours - Southampton Memorial Center      Franklin          204   \n",
       "4  Bon Secours - Southern Virginia Medical Center       Emporia           80   \n",
       "\n",
       "   TotalDischarges  PatientDays Gross PatientRevenue ($000)  \n",
       "0             3033        14414                    $362,683  \n",
       "1                0            0                          $0  \n",
       "2            10802        39515                  $1,095,583  \n",
       "3             1663         5728                    $247,313  \n",
       "4              981         3237                    $223,271  "
      ]
     },
     "execution_count": 11,
     "metadata": {},
     "output_type": "execute_result"
    }
   ],
   "source": [
    "df1.head()"
   ]
  },
  {
   "cell_type": "code",
   "execution_count": 12,
   "metadata": {},
   "outputs": [],
   "source": [
    "df1 = df1[df1['StaffedBeds'] != 0]"
   ]
  },
  {
   "cell_type": "markdown",
   "metadata": {},
   "source": [
    "### Bar chart of the top ten largest hospitals in Virginia"
   ]
  },
  {
   "cell_type": "code",
   "execution_count": 14,
   "metadata": {},
   "outputs": [
    {
     "data": {
      "image/png": "[encoded data removed]",
      "text/plain": [
       "<Figure size 1152x360 with 1 Axes>"
      ]
     },
     "metadata": {
      "needs_background": "light"
     },
     "output_type": "display_data"
    }
   ],
   "source": [
    "plt.figure(figsize=(16,5))\n",
    "plt.bar(df1[:10][\"Hospital Name\"], df1[:10][\"StaffedBeds\"])\n",
    "plt.xticks(rotation=75)\n",
    "plt.title(\"Top ten largest hospitals in Virginia\")\n",
    "plt.xlabel(\"Hospital name\")\n",
    "plt.ylabel(\"Staffed bed\")\n",
    "plt.show()"
   ]
  },
  {
   "cell_type": "markdown",
   "metadata": {},
   "source": [
    "### Bar chart of the top ten largest hospitals in Virginia in order"
   ]
  },
  {
   "cell_type": "code",
   "execution_count": 15,
   "metadata": {},
   "outputs": [],
   "source": [
    "df_sorted = df1.sort_values(\"StaffedBeds\")"
   ]
  },
  {
   "cell_type": "code",
   "execution_count": 24,
   "metadata": {},
   "outputs": [
    {
     "data": {
      "image/png": "[encoded data removed]",
      "text/plain": [
       "<Figure size 1152x360 with 1 Axes>"
      ]
     },
     "metadata": {
      "needs_background": "light"
     },
     "output_type": "display_data"
    }
   ],
   "source": [
    "n = 10\n",
    "plt.figure(figsize=(16,5))\n",
    "plt.bar(df_sorted[-n:][\"Hospital Name\"],df_sorted[\"StaffedBeds\"][-n:])\n",
    "plt.xticks(rotation=45)\n",
    "plt.title(\"Top ten largest hospitals in Virginia by order\")\n",
    "plt.xlabel(\"Hospital name\")\n",
    "plt.ylabel(\"Staffed beds\")\n",
    "plt.show()"
   ]
  },
  {
   "cell_type": "markdown",
   "metadata": {},
   "source": [
    "### Bar chart of top 10 hospitals by stay duration "
   ]
  },
  {
   "cell_type": "code",
   "execution_count": 16,
   "metadata": {},
   "outputs": [
    {
     "data": {
      "image/png": "[encoded data removed]",
      "text/plain": [
       "<Figure size 1152x360 with 1 Axes>"
      ]
     },
     "metadata": {
      "needs_background": "light"
     },
     "output_type": "display_data"
    }
   ],
   "source": [
    "plt.figure(figsize=(16,5))\n",
    "plt.bar(df1[:10][\"Hospital Name\"], (df1[:10][\"PatientDays\"] / df1[:10][\"TotalDischarges\"]))\n",
    "plt.xticks(rotation=75)\n",
    "plt.title(\"Top ten hospitals by stay duration\")\n",
    "plt.xlabel(\"Hospital name\")\n",
    "plt.ylabel(\"Stay Duration\")\n",
    "plt.show()"
   ]
  },
  {
   "cell_type": "code",
   "execution_count": 20,
   "metadata": {},
   "outputs": [],
   "source": [
    "df1[\"Gross PatientRevenue ($000)\"] = df1[\"Gross PatientRevenue ($000)\"].str.replace(\"$\",\"\",regex=True)\n",
    "df1[\"Gross PatientRevenue ($000)\"] = df1[\"Gross PatientRevenue ($000)\"].str.replace(\",\",\"\",regex=True)\n",
    "pd.to_numeric(df1[\"Gross PatientRevenue ($000)\"])\n",
    "df1[\"Revenue\"] = pd.to_numeric(df1[\"Gross PatientRevenue ($000)\"])"
   ]
  },
  {
   "cell_type": "code",
   "execution_count": 21,
   "metadata": {},
   "outputs": [],
   "source": [
    "final_df = df1.drop(['Gross PatientRevenue ($000)'], axis=1)"
   ]
  },
  {
   "cell_type": "code",
   "execution_count": 22,
   "metadata": {},
   "outputs": [],
   "source": [
    "final_df[\"RevenuePerBed\"] = df1[\"Revenue\"] / df1[\"StaffedBeds\"]"
   ]
  },
  {
   "cell_type": "code",
   "execution_count": 27,
   "metadata": {},
   "outputs": [
    {
     "data": {
      "text/plain": [
       "False"
      ]
     },
     "execution_count": 27,
     "metadata": {},
     "output_type": "execute_result"
    }
   ],
   "source": [
    "# check for na in the data frame\n",
    "final_df.isnull().values.any()"
   ]
  },
  {
   "cell_type": "code",
   "execution_count": null,
   "metadata": {},
   "outputs": [],
   "source": [
    "final_df = final_df.dropna()"
   ]
  },
  {
   "cell_type": "markdown",
   "metadata": {},
   "source": [
    "### Scatter plot of revenue per bed vs number of bed"
   ]
  },
  {
   "cell_type": "code",
   "execution_count": 23,
   "metadata": {
    "scrolled": true
   },
   "outputs": [
    {
     "data": {
      "image/png": "[encoded data removed]",
      "text/plain": [
       "<Figure size 1152x360 with 1 Axes>"
      ]
     },
     "metadata": {
      "needs_background": "light"
     },
     "output_type": "display_data"
    }
   ],
   "source": [
    "plt.figure(figsize=(16,5))\n",
    "plt.scatter(final_df[\"RevenuePerBed\"], final_df[\"StaffedBeds\"], marker='^')\n",
    "plt.title(\"Revenue per bed vs Number of bed\")\n",
    "plt.xlabel(\"Revenue per bed\")\n",
    "plt.ylabel(\"Number of bed\")\n",
    "plt.show()"
   ]
  },
  {
   "cell_type": "markdown",
   "metadata": {},
   "source": [
    "### 1/ What is the average and median number of beds per hospital (excluding missing data)?"
   ]
  },
  {
   "cell_type": "code",
   "execution_count": null,
   "metadata": {},
   "outputs": [],
   "source": [
    "total_beds = final_df[\"StaffedBeds\"].sum()\n"
   ]
  },
  {
   "cell_type": "code",
   "execution_count": null,
   "metadata": {},
   "outputs": [],
   "source": [
    "total_rows = len(final_df.index)"
   ]
  },
  {
   "cell_type": "code",
   "execution_count": null,
   "metadata": {},
   "outputs": [],
   "source": [
    "average_beds = total_beds / total_rows"
   ]
  },
  {
   "cell_type": "code",
   "execution_count": null,
   "metadata": {},
   "outputs": [],
   "source": [
    "average_beds"
   ]
  },
  {
   "cell_type": "code",
   "execution_count": null,
   "metadata": {},
   "outputs": [],
   "source": [
    "df_sort_beds = final_df[\"StaffedBeds\"].sort_values()"
   ]
  },
  {
   "cell_type": "code",
   "execution_count": null,
   "metadata": {},
   "outputs": [],
   "source": [
    "df_sort_beds.median()"
   ]
  },
  {
   "cell_type": "markdown",
   "metadata": {},
   "source": [
    "### 2/ Which hospitals have the largest and smallest number of beds (excluding missing data)?"
   ]
  },
  {
   "cell_type": "code",
   "execution_count": null,
   "metadata": {},
   "outputs": [],
   "source": [
    "final_df[\"Hospital Name\"].loc[final_df[\"StaffedBeds\"].idxmax()]"
   ]
  },
  {
   "cell_type": "code",
   "execution_count": null,
   "metadata": {},
   "outputs": [],
   "source": [
    "final_df = final_df[final_df['StaffedBeds'] != 0]"
   ]
  },
  {
   "cell_type": "code",
   "execution_count": null,
   "metadata": {
    "scrolled": true
   },
   "outputs": [],
   "source": [
    "final_df[\"Hospital Name\"].loc[final_df[\"StaffedBeds\"].idxmin()]"
   ]
  },
  {
   "cell_type": "markdown",
   "metadata": {},
   "source": [
    "### 3/ Which hospital is the most profitable per bed?"
   ]
  },
  {
   "cell_type": "code",
   "execution_count": null,
   "metadata": {},
   "outputs": [],
   "source": [
    "final_df[\"Hospital Name\"].loc[final_df[\"StaffedBeds\"].idxmax()]"
   ]
  },
  {
   "cell_type": "markdown",
   "metadata": {},
   "source": [
    "### 4/ Which city has the most number of hospital beds?"
   ]
  },
  {
   "cell_type": "code",
   "execution_count": null,
   "metadata": {},
   "outputs": [],
   "source": [
    "final_df[\"City\"].loc[final_df[\"StaffedBeds\"].idxmax()]"
   ]
  },
  {
   "cell_type": "markdown",
   "metadata": {},
   "source": [
    "### 5/"
   ]
  },
  {
   "cell_type": "code",
   "execution_count": null,
   "metadata": {},
   "outputs": [],
   "source": [
    "final_df[\"StayDuration\"] = final_df[\"PatientDays\"] / final_df[\"TotalDischarges\"]"
   ]
  },
  {
   "cell_type": "code",
   "execution_count": null,
   "metadata": {},
   "outputs": [],
   "source": [
    "final_df = final_df[final_df['TotalDischarges'] != 0]"
   ]
  },
  {
   "cell_type": "code",
   "execution_count": null,
   "metadata": {},
   "outputs": [],
   "source": [
    "from geopy.geocoders import Nominatim"
   ]
  },
  {
   "cell_type": "code",
   "execution_count": null,
   "metadata": {},
   "outputs": [],
   "source": [
    "geolocator =  Nominatim(user_agent=\"your_name\")"
   ]
  },
  {
   "cell_type": "code",
   "execution_count": null,
   "metadata": {},
   "outputs": [],
   "source": [
    "location = geolocator.geocode(\"Newport News, Virginia\")\n",
    "print(location)"
   ]
  },
  {
   "cell_type": "code",
   "execution_count": null,
   "metadata": {},
   "outputs": [],
   "source": [
    "location.latitude"
   ]
  },
  {
   "cell_type": "code",
   "execution_count": null,
   "metadata": {},
   "outputs": [],
   "source": [
    "location.longitude"
   ]
  },
  {
   "cell_type": "code",
   "execution_count": null,
   "metadata": {},
   "outputs": [],
   "source": [
    "final_df.iloc[0][\"City\"]"
   ]
  },
  {
   "cell_type": "code",
   "execution_count": null,
   "metadata": {},
   "outputs": [],
   "source": [
    "pd.set_option('display.max_rows',100)\n"
   ]
  },
  {
   "cell_type": "code",
   "execution_count": null,
   "metadata": {},
   "outputs": [],
   "source": [
    "lat = []\n",
    "long = []\n",
    "for i in range(len(final_df.index)):\n",
    "    city = final_df.iloc[i][\"City\"]\n",
    "    location = geolocator.geocode(f\"{city}, Virginia\")\n",
    "    lat.append(location.latitude)\n",
    "    long.append(location.longitude)\n",
    "    \n"
   ]
  },
  {
   "cell_type": "code",
   "execution_count": null,
   "metadata": {},
   "outputs": [],
   "source": [
    "lat_series = pd.Series(lat, index=final_df.index)\n",
    "long_series = pd.Series(long, index=final_df.index)"
   ]
  },
  {
   "cell_type": "code",
   "execution_count": null,
   "metadata": {},
   "outputs": [],
   "source": [
    "final_df[\"Latitude\"] = lat_series\n",
    "final_df[\"Longitude\"] = long_series"
   ]
  },
  {
   "cell_type": "code",
   "execution_count": null,
   "metadata": {},
   "outputs": [],
   "source": [
    "import plotly.graph_objects as go"
   ]
  },
  {
   "cell_type": "code",
   "execution_count": null,
   "metadata": {},
   "outputs": [],
   "source": [
    "final_df[\"Hospital Name\"] = final_df[\"Hospital Name\"].astype(str) + \" - \" + final_df[\"StaffedBeds\"].astype(str)"
   ]
  },
  {
   "cell_type": "markdown",
   "metadata": {},
   "source": [
    "### Plotly map hospitals"
   ]
  },
  {
   "cell_type": "code",
   "execution_count": null,
   "metadata": {},
   "outputs": [],
   "source": [
    "fig = go.Figure(data=go.Scattergeo(locationmode=\"USA-states\",\n",
    "                                  lon=final_df[\"Longitude\"],\n",
    "                                  lat=final_df[\"Latitude\"],\n",
    "                                  mode='markers',\n",
    "                                  text=final_df[\"Hospital Name\"],\n",
    "                                  marker=dict(size=8,\n",
    "                                             opacity=0.8,\n",
    "                                             colorscale=\"sunset\",\n",
    "                                             color=final_df[\"StaffedBeds\"],\n",
    "                                             cmin=final_df[\"StaffedBeds\"].min(),\n",
    "                                             cmax=final_df[\"StaffedBeds\"].max())))\n",
    "fig.update_layout(title=\"Number of beds per hospital in Virginia\",\n",
    "                 autosize=True,\n",
    "                 geo=dict(scope=\"usa\",\n",
    "                         projection_type=\"albers usa\",\n",
    "                         showland=True,\n",
    "                         landcolor=\"rgb(0,44,118)\",\n",
    "                         subunitcolor=\"rgb(217,217,217)\",\n",
    "                         countrycolor=\"rgb(217,217,217)\",\n",
    "                         subunitwidth=0.5,\n",
    "                         countrywidth=0.5))\n",
    "fig.update_geos(fitbounds=\"locations\")\n",
    "fig.show()"
   ]
  },
  {
   "cell_type": "code",
   "execution_count": null,
   "metadata": {},
   "outputs": [],
   "source": [
    "df_city = final_df.groupby('City').sum()"
   ]
  },
  {
   "cell_type": "code",
   "execution_count": null,
   "metadata": {},
   "outputs": [],
   "source": [
    "df_city_sorted = df_city.sort_values(\"StaffedBeds\", ascending=True)"
   ]
  },
  {
   "cell_type": "code",
   "execution_count": null,
   "metadata": {},
   "outputs": [],
   "source": [
    "plt.figure(figsize=(10,15))\n",
    "plt.barh(df_city_sorted.index, df_city_sorted[\"StaffedBeds\"])\n",
    "plt.show()"
   ]
  },
  {
   "cell_type": "code",
   "execution_count": null,
   "metadata": {},
   "outputs": [],
   "source": [
    "#plt.style.available"
   ]
  },
  {
   "cell_type": "code",
   "execution_count": null,
   "metadata": {},
   "outputs": [],
   "source": [
    "plt.style.use(\"dark_background\")"
   ]
  },
  {
   "cell_type": "code",
   "execution_count": null,
   "metadata": {},
   "outputs": [],
   "source": [
    "plt.figure(figsize=(10,15))\n",
    "plt.barh(df_city_sorted.index, df_city_sorted[\"StaffedBeds\"])\n",
    "plt.show()"
   ]
  },
  {
   "cell_type": "code",
   "execution_count": null,
   "metadata": {},
   "outputs": [],
   "source": [
    "plt.style.use(\"seaborn\")"
   ]
  },
  {
   "cell_type": "code",
   "execution_count": null,
   "metadata": {},
   "outputs": [],
   "source": [
    "plt.figure(figsize=(10,15))\n",
    "plt.barh(df_city_sorted.index, df_city_sorted[\"StaffedBeds\"])\n",
    "plt.show()"
   ]
  },
  {
   "cell_type": "code",
   "execution_count": null,
   "metadata": {},
   "outputs": [],
   "source": [
    "plt.style.use(\"seaborn-dark-palette\")"
   ]
  },
  {
   "cell_type": "code",
   "execution_count": null,
   "metadata": {},
   "outputs": [],
   "source": [
    "plt.figure(figsize=(10,15))\n",
    "plt.barh(df_city_sorted.index, df_city_sorted[\"StaffedBeds\"])\n",
    "plt.show()"
   ]
  },
  {
   "cell_type": "code",
   "execution_count": null,
   "metadata": {},
   "outputs": [],
   "source": [
    "plt.style.use(\"fivethirtyeight\")"
   ]
  },
  {
   "cell_type": "code",
   "execution_count": null,
   "metadata": {},
   "outputs": [],
   "source": [
    "plt.figure(figsize=(10,17))\n",
    "plt.barh(df_city_sorted.index, df_city_sorted[\"StaffedBeds\"])\n",
    "plt.show()"
   ]
  },
  {
   "cell_type": "markdown",
   "metadata": {},
   "source": [
    "### **Questions**\n",
    "\n",
    "### 1. What is the average and median number of beds per hospital (excluding missing data)\n",
    "   #### 151.5\n",
    "### 2. Which hospitals have the largest and smallest number of beds (excluding missing data)\n",
    "   #### Inova Fairfax Hospital have the largest number of hospital\n",
    "   #### Carilion Franklin Memorial Hospital have the smallest number of hospital\n",
    "### 3. Which hospital is the most profitable per bed?\n",
    "   #### Inova Fairfax Hospital\n",
    "### 4. Which city has the most number of hospital beds?\n",
    "   #### Falls Church"
   ]
  },
  {
   "cell_type": "code",
   "execution_count": null,
   "metadata": {},
   "outputs": [],
   "source": []
  }
 ],
 "metadata": {
  "kernelspec": {
   "display_name": "Python 3",
   "language": "python",
   "name": "python3"
  },
  "language_info": {
   "codemirror_mode": {
    "name": "ipython",
    "version": 3
   },
   "file_extension": ".py",
   "mimetype": "text/x-python",
   "name": "python",
   "nbconvert_exporter": "python",
   "pygments_lexer": "ipython3",
   "version": "3.8.5"
  }
 },
 "nbformat": 4,
 "nbformat_minor": 4
}
